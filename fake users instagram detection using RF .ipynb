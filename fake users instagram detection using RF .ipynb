{
 "cells": [
  {
   "cell_type": "markdown",
   "id": "fee06353",
   "metadata": {},
   "source": [
    "<h3>Imports</h3>"
   ]
  },
  {
   "cell_type": "code",
   "execution_count": 3,
   "id": "8fdf8038",
   "metadata": {},
   "outputs": [],
   "source": [
    "from mpl_toolkits.mplot3d import Axes3D\n",
    "from sklearn.preprocessing import StandardScaler\n",
    "import matplotlib.pyplot as plt # plotting\n",
    "import numpy as np # linear algebra\n",
    "import os # accessing directory structure\n",
    "import pandas as pd # data processing, CSV"
   ]
  },
  {
   "cell_type": "markdown",
   "id": "57715597",
   "metadata": {},
   "source": [
    "<h3>Cargamos los dataset</h3>"
   ]
  },
  {
   "cell_type": "code",
   "execution_count": 4,
   "id": "13b09875",
   "metadata": {},
   "outputs": [],
   "source": [
    "df_train=pd.read_csv('C:/Users/mota1/Downloads/train.csv')\n",
    "df_test=pd.read_csv('C:/Users/mota1/Downloads/train.csv')"
   ]
  },
  {
   "cell_type": "markdown",
   "id": "286ea6dc",
   "metadata": {},
   "source": [
    "Unimos los dataset "
   ]
  },
  {
   "cell_type": "code",
   "execution_count": 5,
   "id": "3f893e8d",
   "metadata": {},
   "outputs": [],
   "source": [
    "dataset = pd.concat([df_train, df_test], axis=0)"
   ]
  },
  {
   "cell_type": "markdown",
   "id": "be910afa",
   "metadata": {},
   "source": [
    "<h3>Analisis exploratorio del dataset</h3>"
   ]
  },
  {
   "cell_type": "code",
   "execution_count": 6,
   "id": "fd610ad9",
   "metadata": {},
   "outputs": [
    {
     "data": {
      "text/html": [
       "<div>\n",
       "<style scoped>\n",
       "    .dataframe tbody tr th:only-of-type {\n",
       "        vertical-align: middle;\n",
       "    }\n",
       "\n",
       "    .dataframe tbody tr th {\n",
       "        vertical-align: top;\n",
       "    }\n",
       "\n",
       "    .dataframe thead th {\n",
       "        text-align: right;\n",
       "    }\n",
       "</style>\n",
       "<table border=\"1\" class=\"dataframe\">\n",
       "  <thead>\n",
       "    <tr style=\"text-align: right;\">\n",
       "      <th></th>\n",
       "      <th>profile pic</th>\n",
       "      <th>nums/length username</th>\n",
       "      <th>fullname words</th>\n",
       "      <th>nums/length fullname</th>\n",
       "      <th>name==username</th>\n",
       "      <th>description length</th>\n",
       "      <th>external URL</th>\n",
       "      <th>private</th>\n",
       "      <th>#posts</th>\n",
       "      <th>#followers</th>\n",
       "      <th>#follows</th>\n",
       "      <th>fake</th>\n",
       "    </tr>\n",
       "  </thead>\n",
       "  <tbody>\n",
       "    <tr>\n",
       "      <th>0</th>\n",
       "      <td>1</td>\n",
       "      <td>0.27</td>\n",
       "      <td>0</td>\n",
       "      <td>0.00</td>\n",
       "      <td>0</td>\n",
       "      <td>53</td>\n",
       "      <td>0</td>\n",
       "      <td>0</td>\n",
       "      <td>32</td>\n",
       "      <td>1000</td>\n",
       "      <td>955</td>\n",
       "      <td>0</td>\n",
       "    </tr>\n",
       "    <tr>\n",
       "      <th>1</th>\n",
       "      <td>1</td>\n",
       "      <td>0.00</td>\n",
       "      <td>2</td>\n",
       "      <td>0.00</td>\n",
       "      <td>0</td>\n",
       "      <td>44</td>\n",
       "      <td>0</td>\n",
       "      <td>0</td>\n",
       "      <td>286</td>\n",
       "      <td>2740</td>\n",
       "      <td>533</td>\n",
       "      <td>0</td>\n",
       "    </tr>\n",
       "    <tr>\n",
       "      <th>2</th>\n",
       "      <td>1</td>\n",
       "      <td>0.10</td>\n",
       "      <td>2</td>\n",
       "      <td>0.00</td>\n",
       "      <td>0</td>\n",
       "      <td>0</td>\n",
       "      <td>0</td>\n",
       "      <td>1</td>\n",
       "      <td>13</td>\n",
       "      <td>159</td>\n",
       "      <td>98</td>\n",
       "      <td>0</td>\n",
       "    </tr>\n",
       "    <tr>\n",
       "      <th>3</th>\n",
       "      <td>1</td>\n",
       "      <td>0.00</td>\n",
       "      <td>1</td>\n",
       "      <td>0.00</td>\n",
       "      <td>0</td>\n",
       "      <td>82</td>\n",
       "      <td>0</td>\n",
       "      <td>0</td>\n",
       "      <td>679</td>\n",
       "      <td>414</td>\n",
       "      <td>651</td>\n",
       "      <td>0</td>\n",
       "    </tr>\n",
       "    <tr>\n",
       "      <th>4</th>\n",
       "      <td>1</td>\n",
       "      <td>0.00</td>\n",
       "      <td>2</td>\n",
       "      <td>0.00</td>\n",
       "      <td>0</td>\n",
       "      <td>0</td>\n",
       "      <td>0</td>\n",
       "      <td>1</td>\n",
       "      <td>6</td>\n",
       "      <td>151</td>\n",
       "      <td>126</td>\n",
       "      <td>0</td>\n",
       "    </tr>\n",
       "    <tr>\n",
       "      <th>...</th>\n",
       "      <td>...</td>\n",
       "      <td>...</td>\n",
       "      <td>...</td>\n",
       "      <td>...</td>\n",
       "      <td>...</td>\n",
       "      <td>...</td>\n",
       "      <td>...</td>\n",
       "      <td>...</td>\n",
       "      <td>...</td>\n",
       "      <td>...</td>\n",
       "      <td>...</td>\n",
       "      <td>...</td>\n",
       "    </tr>\n",
       "    <tr>\n",
       "      <th>571</th>\n",
       "      <td>1</td>\n",
       "      <td>0.55</td>\n",
       "      <td>1</td>\n",
       "      <td>0.44</td>\n",
       "      <td>0</td>\n",
       "      <td>0</td>\n",
       "      <td>0</td>\n",
       "      <td>0</td>\n",
       "      <td>33</td>\n",
       "      <td>166</td>\n",
       "      <td>596</td>\n",
       "      <td>1</td>\n",
       "    </tr>\n",
       "    <tr>\n",
       "      <th>572</th>\n",
       "      <td>1</td>\n",
       "      <td>0.38</td>\n",
       "      <td>1</td>\n",
       "      <td>0.33</td>\n",
       "      <td>0</td>\n",
       "      <td>21</td>\n",
       "      <td>0</td>\n",
       "      <td>0</td>\n",
       "      <td>44</td>\n",
       "      <td>66</td>\n",
       "      <td>75</td>\n",
       "      <td>1</td>\n",
       "    </tr>\n",
       "    <tr>\n",
       "      <th>573</th>\n",
       "      <td>1</td>\n",
       "      <td>0.57</td>\n",
       "      <td>2</td>\n",
       "      <td>0.00</td>\n",
       "      <td>0</td>\n",
       "      <td>0</td>\n",
       "      <td>0</td>\n",
       "      <td>0</td>\n",
       "      <td>4</td>\n",
       "      <td>96</td>\n",
       "      <td>339</td>\n",
       "      <td>1</td>\n",
       "    </tr>\n",
       "    <tr>\n",
       "      <th>574</th>\n",
       "      <td>1</td>\n",
       "      <td>0.57</td>\n",
       "      <td>1</td>\n",
       "      <td>0.00</td>\n",
       "      <td>0</td>\n",
       "      <td>11</td>\n",
       "      <td>0</td>\n",
       "      <td>0</td>\n",
       "      <td>0</td>\n",
       "      <td>57</td>\n",
       "      <td>73</td>\n",
       "      <td>1</td>\n",
       "    </tr>\n",
       "    <tr>\n",
       "      <th>575</th>\n",
       "      <td>1</td>\n",
       "      <td>0.27</td>\n",
       "      <td>1</td>\n",
       "      <td>0.00</td>\n",
       "      <td>0</td>\n",
       "      <td>0</td>\n",
       "      <td>0</td>\n",
       "      <td>0</td>\n",
       "      <td>2</td>\n",
       "      <td>150</td>\n",
       "      <td>487</td>\n",
       "      <td>1</td>\n",
       "    </tr>\n",
       "  </tbody>\n",
       "</table>\n",
       "<p>1152 rows × 12 columns</p>\n",
       "</div>"
      ],
      "text/plain": [
       "     profile pic  nums/length username  fullname words  nums/length fullname  \\\n",
       "0              1                  0.27               0                  0.00   \n",
       "1              1                  0.00               2                  0.00   \n",
       "2              1                  0.10               2                  0.00   \n",
       "3              1                  0.00               1                  0.00   \n",
       "4              1                  0.00               2                  0.00   \n",
       "..           ...                   ...             ...                   ...   \n",
       "571            1                  0.55               1                  0.44   \n",
       "572            1                  0.38               1                  0.33   \n",
       "573            1                  0.57               2                  0.00   \n",
       "574            1                  0.57               1                  0.00   \n",
       "575            1                  0.27               1                  0.00   \n",
       "\n",
       "     name==username  description length  external URL  private  #posts  \\\n",
       "0                 0                  53             0        0      32   \n",
       "1                 0                  44             0        0     286   \n",
       "2                 0                   0             0        1      13   \n",
       "3                 0                  82             0        0     679   \n",
       "4                 0                   0             0        1       6   \n",
       "..              ...                 ...           ...      ...     ...   \n",
       "571               0                   0             0        0      33   \n",
       "572               0                  21             0        0      44   \n",
       "573               0                   0             0        0       4   \n",
       "574               0                  11             0        0       0   \n",
       "575               0                   0             0        0       2   \n",
       "\n",
       "     #followers  #follows  fake  \n",
       "0          1000       955     0  \n",
       "1          2740       533     0  \n",
       "2           159        98     0  \n",
       "3           414       651     0  \n",
       "4           151       126     0  \n",
       "..          ...       ...   ...  \n",
       "571         166       596     1  \n",
       "572          66        75     1  \n",
       "573          96       339     1  \n",
       "574          57        73     1  \n",
       "575         150       487     1  \n",
       "\n",
       "[1152 rows x 12 columns]"
      ]
     },
     "execution_count": 6,
     "metadata": {},
     "output_type": "execute_result"
    }
   ],
   "source": [
    "dataset"
   ]
  },
  {
   "cell_type": "markdown",
   "id": "8f827960",
   "metadata": {},
   "source": [
    "Revisamos los tipos de variables y de datos en el dataset "
   ]
  },
  {
   "cell_type": "code",
   "execution_count": 7,
   "id": "1c1b23a5",
   "metadata": {},
   "outputs": [
    {
     "name": "stdout",
     "output_type": "stream",
     "text": [
      "<class 'pandas.core.frame.DataFrame'>\n",
      "Int64Index: 1152 entries, 0 to 575\n",
      "Data columns (total 12 columns):\n",
      " #   Column                Non-Null Count  Dtype  \n",
      "---  ------                --------------  -----  \n",
      " 0   profile pic           1152 non-null   int64  \n",
      " 1   nums/length username  1152 non-null   float64\n",
      " 2   fullname words        1152 non-null   int64  \n",
      " 3   nums/length fullname  1152 non-null   float64\n",
      " 4   name==username        1152 non-null   int64  \n",
      " 5   description length    1152 non-null   int64  \n",
      " 6   external URL          1152 non-null   int64  \n",
      " 7   private               1152 non-null   int64  \n",
      " 8   #posts                1152 non-null   int64  \n",
      " 9   #followers            1152 non-null   int64  \n",
      " 10  #follows              1152 non-null   int64  \n",
      " 11  fake                  1152 non-null   int64  \n",
      "dtypes: float64(2), int64(10)\n",
      "memory usage: 117.0 KB\n"
     ]
    }
   ],
   "source": [
    "dataset.info()"
   ]
  },
  {
   "cell_type": "code",
   "execution_count": 8,
   "id": "48d11dd3",
   "metadata": {},
   "outputs": [
    {
     "data": {
      "text/html": [
       "<div>\n",
       "<style scoped>\n",
       "    .dataframe tbody tr th:only-of-type {\n",
       "        vertical-align: middle;\n",
       "    }\n",
       "\n",
       "    .dataframe tbody tr th {\n",
       "        vertical-align: top;\n",
       "    }\n",
       "\n",
       "    .dataframe thead th {\n",
       "        text-align: right;\n",
       "    }\n",
       "</style>\n",
       "<table border=\"1\" class=\"dataframe\">\n",
       "  <thead>\n",
       "    <tr style=\"text-align: right;\">\n",
       "      <th></th>\n",
       "      <th>profile pic</th>\n",
       "      <th>nums/length username</th>\n",
       "      <th>fullname words</th>\n",
       "      <th>nums/length fullname</th>\n",
       "      <th>name==username</th>\n",
       "      <th>description length</th>\n",
       "      <th>external URL</th>\n",
       "      <th>private</th>\n",
       "      <th>#posts</th>\n",
       "      <th>#followers</th>\n",
       "      <th>#follows</th>\n",
       "      <th>fake</th>\n",
       "    </tr>\n",
       "  </thead>\n",
       "  <tbody>\n",
       "    <tr>\n",
       "      <th>count</th>\n",
       "      <td>1152.000000</td>\n",
       "      <td>1152.000000</td>\n",
       "      <td>1152.000000</td>\n",
       "      <td>1152.000000</td>\n",
       "      <td>1152.000000</td>\n",
       "      <td>1152.000000</td>\n",
       "      <td>1152.000000</td>\n",
       "      <td>1152.000000</td>\n",
       "      <td>1152.000000</td>\n",
       "      <td>1.152000e+03</td>\n",
       "      <td>1152.000000</td>\n",
       "      <td>1152.000000</td>\n",
       "    </tr>\n",
       "    <tr>\n",
       "      <th>mean</th>\n",
       "      <td>0.701389</td>\n",
       "      <td>0.163837</td>\n",
       "      <td>1.460069</td>\n",
       "      <td>0.036094</td>\n",
       "      <td>0.034722</td>\n",
       "      <td>22.623264</td>\n",
       "      <td>0.116319</td>\n",
       "      <td>0.381944</td>\n",
       "      <td>107.489583</td>\n",
       "      <td>8.530724e+04</td>\n",
       "      <td>508.381944</td>\n",
       "      <td>0.500000</td>\n",
       "    </tr>\n",
       "    <tr>\n",
       "      <th>std</th>\n",
       "      <td>0.457848</td>\n",
       "      <td>0.214003</td>\n",
       "      <td>1.052143</td>\n",
       "      <td>0.125066</td>\n",
       "      <td>0.183155</td>\n",
       "      <td>37.686605</td>\n",
       "      <td>0.320747</td>\n",
       "      <td>0.486074</td>\n",
       "      <td>401.859747</td>\n",
       "      <td>9.097530e+05</td>\n",
       "      <td>917.582377</td>\n",
       "      <td>0.500217</td>\n",
       "    </tr>\n",
       "    <tr>\n",
       "      <th>min</th>\n",
       "      <td>0.000000</td>\n",
       "      <td>0.000000</td>\n",
       "      <td>0.000000</td>\n",
       "      <td>0.000000</td>\n",
       "      <td>0.000000</td>\n",
       "      <td>0.000000</td>\n",
       "      <td>0.000000</td>\n",
       "      <td>0.000000</td>\n",
       "      <td>0.000000</td>\n",
       "      <td>0.000000e+00</td>\n",
       "      <td>0.000000</td>\n",
       "      <td>0.000000</td>\n",
       "    </tr>\n",
       "    <tr>\n",
       "      <th>25%</th>\n",
       "      <td>0.000000</td>\n",
       "      <td>0.000000</td>\n",
       "      <td>1.000000</td>\n",
       "      <td>0.000000</td>\n",
       "      <td>0.000000</td>\n",
       "      <td>0.000000</td>\n",
       "      <td>0.000000</td>\n",
       "      <td>0.000000</td>\n",
       "      <td>0.000000</td>\n",
       "      <td>3.900000e+01</td>\n",
       "      <td>57.500000</td>\n",
       "      <td>0.000000</td>\n",
       "    </tr>\n",
       "    <tr>\n",
       "      <th>50%</th>\n",
       "      <td>1.000000</td>\n",
       "      <td>0.000000</td>\n",
       "      <td>1.000000</td>\n",
       "      <td>0.000000</td>\n",
       "      <td>0.000000</td>\n",
       "      <td>0.000000</td>\n",
       "      <td>0.000000</td>\n",
       "      <td>0.000000</td>\n",
       "      <td>9.000000</td>\n",
       "      <td>1.505000e+02</td>\n",
       "      <td>229.500000</td>\n",
       "      <td>0.500000</td>\n",
       "    </tr>\n",
       "    <tr>\n",
       "      <th>75%</th>\n",
       "      <td>1.000000</td>\n",
       "      <td>0.310000</td>\n",
       "      <td>2.000000</td>\n",
       "      <td>0.000000</td>\n",
       "      <td>0.000000</td>\n",
       "      <td>34.000000</td>\n",
       "      <td>0.000000</td>\n",
       "      <td>1.000000</td>\n",
       "      <td>81.500000</td>\n",
       "      <td>7.160000e+02</td>\n",
       "      <td>589.500000</td>\n",
       "      <td>1.000000</td>\n",
       "    </tr>\n",
       "    <tr>\n",
       "      <th>max</th>\n",
       "      <td>1.000000</td>\n",
       "      <td>0.920000</td>\n",
       "      <td>12.000000</td>\n",
       "      <td>1.000000</td>\n",
       "      <td>1.000000</td>\n",
       "      <td>150.000000</td>\n",
       "      <td>1.000000</td>\n",
       "      <td>1.000000</td>\n",
       "      <td>7389.000000</td>\n",
       "      <td>1.533854e+07</td>\n",
       "      <td>7500.000000</td>\n",
       "      <td>1.000000</td>\n",
       "    </tr>\n",
       "  </tbody>\n",
       "</table>\n",
       "</div>"
      ],
      "text/plain": [
       "       profile pic  nums/length username  fullname words  \\\n",
       "count  1152.000000           1152.000000     1152.000000   \n",
       "mean      0.701389              0.163837        1.460069   \n",
       "std       0.457848              0.214003        1.052143   \n",
       "min       0.000000              0.000000        0.000000   \n",
       "25%       0.000000              0.000000        1.000000   \n",
       "50%       1.000000              0.000000        1.000000   \n",
       "75%       1.000000              0.310000        2.000000   \n",
       "max       1.000000              0.920000       12.000000   \n",
       "\n",
       "       nums/length fullname  name==username  description length  external URL  \\\n",
       "count           1152.000000     1152.000000         1152.000000   1152.000000   \n",
       "mean               0.036094        0.034722           22.623264      0.116319   \n",
       "std                0.125066        0.183155           37.686605      0.320747   \n",
       "min                0.000000        0.000000            0.000000      0.000000   \n",
       "25%                0.000000        0.000000            0.000000      0.000000   \n",
       "50%                0.000000        0.000000            0.000000      0.000000   \n",
       "75%                0.000000        0.000000           34.000000      0.000000   \n",
       "max                1.000000        1.000000          150.000000      1.000000   \n",
       "\n",
       "           private       #posts    #followers     #follows         fake  \n",
       "count  1152.000000  1152.000000  1.152000e+03  1152.000000  1152.000000  \n",
       "mean      0.381944   107.489583  8.530724e+04   508.381944     0.500000  \n",
       "std       0.486074   401.859747  9.097530e+05   917.582377     0.500217  \n",
       "min       0.000000     0.000000  0.000000e+00     0.000000     0.000000  \n",
       "25%       0.000000     0.000000  3.900000e+01    57.500000     0.000000  \n",
       "50%       0.000000     9.000000  1.505000e+02   229.500000     0.500000  \n",
       "75%       1.000000    81.500000  7.160000e+02   589.500000     1.000000  \n",
       "max       1.000000  7389.000000  1.533854e+07  7500.000000     1.000000  "
      ]
     },
     "execution_count": 8,
     "metadata": {},
     "output_type": "execute_result"
    }
   ],
   "source": [
    "dataset.describe()"
   ]
  },
  {
   "cell_type": "markdown",
   "id": "190ba56c",
   "metadata": {},
   "source": [
    "<h3>Preprocesamiento de datos</h3>"
   ]
  },
  {
   "cell_type": "markdown",
   "id": "20131d45",
   "metadata": {},
   "source": [
    "Eliminamos las columnas con datos poco relevantes y se separa el dataset en X (variables independientes) y Y (variable dependiente) "
   ]
  },
  {
   "cell_type": "code",
   "execution_count": 9,
   "id": "d9915d70",
   "metadata": {},
   "outputs": [],
   "source": [
    "X=dataset.drop(columns=['fake'])\n",
    "y=dataset['fake']"
   ]
  },
  {
   "cell_type": "code",
   "execution_count": 10,
   "id": "ee54b66c",
   "metadata": {},
   "outputs": [],
   "source": [
    "X.drop(columns=['nums/length fullname','name==username'], inplace=True)"
   ]
  },
  {
   "cell_type": "code",
   "execution_count": 11,
   "id": "d3a553d5",
   "metadata": {},
   "outputs": [],
   "source": [
    "dataset['#followers'] = np.log1p(dataset['#followers'])\n",
    "dataset['#posts'] = np.log1p(dataset['#posts'])"
   ]
  },
  {
   "cell_type": "markdown",
   "id": "f5ae590d",
   "metadata": {},
   "source": [
    "Dividir el data set en conjunto de entrenamiento y conjunto de testing"
   ]
  },
  {
   "cell_type": "code",
   "execution_count": 12,
   "id": "64fd6435",
   "metadata": {},
   "outputs": [],
   "source": [
    "from sklearn.model_selection import train_test_split\n",
    "X_train, X_test, y_train, y_test = train_test_split(X, y, test_size = 0.25, random_state = 0)\n"
   ]
  },
  {
   "cell_type": "code",
   "execution_count": 13,
   "id": "77dd4654",
   "metadata": {},
   "outputs": [
    {
     "data": {
      "text/html": [
       "<div>\n",
       "<style scoped>\n",
       "    .dataframe tbody tr th:only-of-type {\n",
       "        vertical-align: middle;\n",
       "    }\n",
       "\n",
       "    .dataframe tbody tr th {\n",
       "        vertical-align: top;\n",
       "    }\n",
       "\n",
       "    .dataframe thead th {\n",
       "        text-align: right;\n",
       "    }\n",
       "</style>\n",
       "<table border=\"1\" class=\"dataframe\">\n",
       "  <thead>\n",
       "    <tr style=\"text-align: right;\">\n",
       "      <th></th>\n",
       "      <th>profile pic</th>\n",
       "      <th>nums/length username</th>\n",
       "      <th>fullname words</th>\n",
       "      <th>description length</th>\n",
       "      <th>external URL</th>\n",
       "      <th>private</th>\n",
       "      <th>#posts</th>\n",
       "      <th>#followers</th>\n",
       "      <th>#follows</th>\n",
       "    </tr>\n",
       "  </thead>\n",
       "  <tbody>\n",
       "    <tr>\n",
       "      <th>0</th>\n",
       "      <td>1</td>\n",
       "      <td>0.27</td>\n",
       "      <td>0</td>\n",
       "      <td>53</td>\n",
       "      <td>0</td>\n",
       "      <td>0</td>\n",
       "      <td>32</td>\n",
       "      <td>1000</td>\n",
       "      <td>955</td>\n",
       "    </tr>\n",
       "    <tr>\n",
       "      <th>1</th>\n",
       "      <td>1</td>\n",
       "      <td>0.00</td>\n",
       "      <td>2</td>\n",
       "      <td>44</td>\n",
       "      <td>0</td>\n",
       "      <td>0</td>\n",
       "      <td>286</td>\n",
       "      <td>2740</td>\n",
       "      <td>533</td>\n",
       "    </tr>\n",
       "    <tr>\n",
       "      <th>2</th>\n",
       "      <td>1</td>\n",
       "      <td>0.10</td>\n",
       "      <td>2</td>\n",
       "      <td>0</td>\n",
       "      <td>0</td>\n",
       "      <td>1</td>\n",
       "      <td>13</td>\n",
       "      <td>159</td>\n",
       "      <td>98</td>\n",
       "    </tr>\n",
       "    <tr>\n",
       "      <th>3</th>\n",
       "      <td>1</td>\n",
       "      <td>0.00</td>\n",
       "      <td>1</td>\n",
       "      <td>82</td>\n",
       "      <td>0</td>\n",
       "      <td>0</td>\n",
       "      <td>679</td>\n",
       "      <td>414</td>\n",
       "      <td>651</td>\n",
       "    </tr>\n",
       "    <tr>\n",
       "      <th>4</th>\n",
       "      <td>1</td>\n",
       "      <td>0.00</td>\n",
       "      <td>2</td>\n",
       "      <td>0</td>\n",
       "      <td>0</td>\n",
       "      <td>1</td>\n",
       "      <td>6</td>\n",
       "      <td>151</td>\n",
       "      <td>126</td>\n",
       "    </tr>\n",
       "    <tr>\n",
       "      <th>...</th>\n",
       "      <td>...</td>\n",
       "      <td>...</td>\n",
       "      <td>...</td>\n",
       "      <td>...</td>\n",
       "      <td>...</td>\n",
       "      <td>...</td>\n",
       "      <td>...</td>\n",
       "      <td>...</td>\n",
       "      <td>...</td>\n",
       "    </tr>\n",
       "    <tr>\n",
       "      <th>571</th>\n",
       "      <td>1</td>\n",
       "      <td>0.55</td>\n",
       "      <td>1</td>\n",
       "      <td>0</td>\n",
       "      <td>0</td>\n",
       "      <td>0</td>\n",
       "      <td>33</td>\n",
       "      <td>166</td>\n",
       "      <td>596</td>\n",
       "    </tr>\n",
       "    <tr>\n",
       "      <th>572</th>\n",
       "      <td>1</td>\n",
       "      <td>0.38</td>\n",
       "      <td>1</td>\n",
       "      <td>21</td>\n",
       "      <td>0</td>\n",
       "      <td>0</td>\n",
       "      <td>44</td>\n",
       "      <td>66</td>\n",
       "      <td>75</td>\n",
       "    </tr>\n",
       "    <tr>\n",
       "      <th>573</th>\n",
       "      <td>1</td>\n",
       "      <td>0.57</td>\n",
       "      <td>2</td>\n",
       "      <td>0</td>\n",
       "      <td>0</td>\n",
       "      <td>0</td>\n",
       "      <td>4</td>\n",
       "      <td>96</td>\n",
       "      <td>339</td>\n",
       "    </tr>\n",
       "    <tr>\n",
       "      <th>574</th>\n",
       "      <td>1</td>\n",
       "      <td>0.57</td>\n",
       "      <td>1</td>\n",
       "      <td>11</td>\n",
       "      <td>0</td>\n",
       "      <td>0</td>\n",
       "      <td>0</td>\n",
       "      <td>57</td>\n",
       "      <td>73</td>\n",
       "    </tr>\n",
       "    <tr>\n",
       "      <th>575</th>\n",
       "      <td>1</td>\n",
       "      <td>0.27</td>\n",
       "      <td>1</td>\n",
       "      <td>0</td>\n",
       "      <td>0</td>\n",
       "      <td>0</td>\n",
       "      <td>2</td>\n",
       "      <td>150</td>\n",
       "      <td>487</td>\n",
       "    </tr>\n",
       "  </tbody>\n",
       "</table>\n",
       "<p>1152 rows × 9 columns</p>\n",
       "</div>"
      ],
      "text/plain": [
       "     profile pic  nums/length username  fullname words  description length  \\\n",
       "0              1                  0.27               0                  53   \n",
       "1              1                  0.00               2                  44   \n",
       "2              1                  0.10               2                   0   \n",
       "3              1                  0.00               1                  82   \n",
       "4              1                  0.00               2                   0   \n",
       "..           ...                   ...             ...                 ...   \n",
       "571            1                  0.55               1                   0   \n",
       "572            1                  0.38               1                  21   \n",
       "573            1                  0.57               2                   0   \n",
       "574            1                  0.57               1                  11   \n",
       "575            1                  0.27               1                   0   \n",
       "\n",
       "     external URL  private  #posts  #followers  #follows  \n",
       "0               0        0      32        1000       955  \n",
       "1               0        0     286        2740       533  \n",
       "2               0        1      13         159        98  \n",
       "3               0        0     679         414       651  \n",
       "4               0        1       6         151       126  \n",
       "..            ...      ...     ...         ...       ...  \n",
       "571             0        0      33         166       596  \n",
       "572             0        0      44          66        75  \n",
       "573             0        0       4          96       339  \n",
       "574             0        0       0          57        73  \n",
       "575             0        0       2         150       487  \n",
       "\n",
       "[1152 rows x 9 columns]"
      ]
     },
     "execution_count": 13,
     "metadata": {},
     "output_type": "execute_result"
    }
   ],
   "source": [
    "X"
   ]
  },
  {
   "cell_type": "markdown",
   "id": "7a53b568",
   "metadata": {},
   "source": [
    "Escalado de variables"
   ]
  },
  {
   "cell_type": "code",
   "execution_count": 18,
   "id": "f2cb43b2",
   "metadata": {},
   "outputs": [],
   "source": [
    "from sklearn.preprocessing import StandardScaler\n",
    "sc_X = StandardScaler()\n",
    "X_train = sc_X.fit_transform(X_train)\n",
    "X_test = sc_X.transform(X_test)\n"
   ]
  },
  {
   "cell_type": "code",
   "execution_count": 19,
   "id": "39441528",
   "metadata": {},
   "outputs": [
    {
     "data": {
      "text/plain": [
       "array([[-1.56276392,  1.35295032, -0.4561413 , ..., -0.25086927,\n",
       "        -0.09086684, -0.53235218],\n",
       "       [ 0.63989192, -0.75490425,  0.5242221 , ..., -0.17071727,\n",
       "        -0.08940289, -0.50599263],\n",
       "       [-1.56276392, -0.75490425,  0.5242221 , ..., -0.25086927,\n",
       "        -0.09092241, -0.36870327],\n",
       "       ...,\n",
       "       [ 0.63989192, -0.75490425,  0.5242221 , ..., -0.06162149,\n",
       "        -0.09024752,  0.10576874],\n",
       "       [ 0.63989192,  1.64038504, -0.4561413 , ..., -0.22415194,\n",
       "        -0.09084462, -0.444487  ],\n",
       "       [ 0.63989192, -0.75490425,  0.5242221 , ...,  0.49276319,\n",
       "        -0.09045867, -0.13476221]])"
      ]
     },
     "execution_count": 19,
     "metadata": {},
     "output_type": "execute_result"
    }
   ],
   "source": [
    "X_train"
   ]
  },
  {
   "cell_type": "markdown",
   "id": "b1cdad0b",
   "metadata": {},
   "source": [
    "<h3>Modelado</h3>\n",
    "Ajustar el clasificador Random Forest y XGBoost en el Conjunto de Entrenamiento"
   ]
  },
  {
   "cell_type": "markdown",
   "id": "42ff00e5",
   "metadata": {},
   "source": [
    "<h3>Random Forest</h3>"
   ]
  },
  {
   "cell_type": "code",
   "execution_count": 20,
   "id": "29940777",
   "metadata": {},
   "outputs": [
    {
     "data": {
      "text/plain": [
       "RandomForestClassifier(criterion='entropy', n_estimators=10, random_state=0)"
      ]
     },
     "execution_count": 20,
     "metadata": {},
     "output_type": "execute_result"
    }
   ],
   "source": [
    "from sklearn.ensemble import RandomForestClassifier\n",
    "classifier = RandomForestClassifier(n_estimators = 10, criterion = \"entropy\", random_state = 0)\n",
    "classifier.fit(X_train, y_train)"
   ]
  },
  {
   "cell_type": "markdown",
   "id": "e10a4e76",
   "metadata": {},
   "source": [
    "Predicción de los resultados con el Conjunto de Testing"
   ]
  },
  {
   "cell_type": "code",
   "execution_count": 21,
   "id": "c9667396",
   "metadata": {},
   "outputs": [],
   "source": [
    "y_pred  = classifier.predict(X_test)"
   ]
  },
  {
   "cell_type": "code",
   "execution_count": 22,
   "id": "1929ef70",
   "metadata": {},
   "outputs": [
    {
     "data": {
      "text/plain": [
       "array([1, 1, 1, 0, 1, 0, 0, 0, 1, 0, 0, 1, 0, 1, 1, 1, 0, 1, 1, 1, 0, 1,\n",
       "       0, 0, 0, 0, 1, 1, 0, 1, 1, 0, 0, 0, 1, 0, 1, 1, 1, 1, 1, 1, 0, 0,\n",
       "       1, 1, 0, 1, 1, 0, 1, 1, 0, 0, 1, 0, 1, 0, 0, 0, 0, 0, 0, 0, 0, 1,\n",
       "       1, 0, 1, 1, 0, 1, 0, 0, 1, 0, 1, 0, 1, 0, 0, 0, 0, 1, 0, 1, 0, 0,\n",
       "       0, 1, 0, 1, 0, 1, 1, 0, 0, 1, 1, 1, 0, 1, 0, 1, 1, 0, 1, 1, 1, 1,\n",
       "       1, 0, 0, 1, 0, 0, 1, 1, 1, 0, 0, 0, 0, 1, 1, 0, 1, 1, 1, 1, 1, 1,\n",
       "       0, 0, 0, 0, 1, 1, 1, 1, 0, 0, 0, 0, 1, 1, 1, 1, 1, 1, 1, 1, 0, 0,\n",
       "       0, 1, 1, 0, 1, 1, 0, 0, 1, 0, 0, 1, 1, 1, 0, 0, 1, 1, 0, 0, 1, 1,\n",
       "       1, 1, 0, 0, 1, 1, 0, 0, 0, 1, 0, 1, 1, 1, 0, 0, 0, 0, 1, 0, 1, 0,\n",
       "       0, 1, 1, 0, 1, 1, 0, 0, 1, 0, 1, 1, 0, 1, 1, 0, 1, 1, 0, 1, 0, 0,\n",
       "       1, 1, 1, 0, 1, 0, 1, 0, 1, 0, 1, 0, 1, 1, 1, 0, 0, 0, 1, 1, 0, 1,\n",
       "       0, 0, 0, 0, 0, 0, 1, 0, 1, 1, 1, 1, 0, 1, 1, 1, 1, 0, 0, 0, 1, 0,\n",
       "       1, 1, 1, 0, 0, 0, 0, 1, 1, 0, 0, 1, 0, 0, 1, 1, 1, 0, 1, 0, 0, 1,\n",
       "       0, 1], dtype=int64)"
      ]
     },
     "execution_count": 22,
     "metadata": {},
     "output_type": "execute_result"
    }
   ],
   "source": [
    "y_pred"
   ]
  },
  {
   "cell_type": "markdown",
   "id": "cd731eb0",
   "metadata": {},
   "source": [
    "Elaborar una matriz de confusión"
   ]
  },
  {
   "cell_type": "code",
   "execution_count": 36,
   "id": "8409749b",
   "metadata": {},
   "outputs": [
    {
     "data": {
      "text/plain": [
       "array([[131,   1],\n",
       "       [  7, 149]], dtype=int64)"
      ]
     },
     "execution_count": 36,
     "metadata": {},
     "output_type": "execute_result"
    }
   ],
   "source": [
    "from sklearn.metrics import confusion_matrix\n",
    "cm = confusion_matrix(y_test, y_pred)\n",
    "cm"
   ]
  },
  {
   "cell_type": "code",
   "execution_count": 28,
   "id": "9f047b51",
   "metadata": {},
   "outputs": [
    {
     "name": "stdout",
     "output_type": "stream",
     "text": [
      "RF Training score: 0.9976851851851852 Test Score: 0.9722222222222222\n"
     ]
    }
   ],
   "source": [
    "print (\"RF Training score:\",classifier.score(X_train,y_train),\"Test Score:\", classifier.score(X_test,y_test))"
   ]
  },
  {
   "cell_type": "markdown",
   "id": "45e433fb",
   "metadata": {},
   "source": [
    "<h3>XGBoost</h3>"
   ]
  },
  {
   "cell_type": "code",
   "execution_count": 30,
   "id": "09810687",
   "metadata": {},
   "outputs": [
    {
     "data": {
      "text/plain": [
       "XGBClassifier(base_score=0.5, booster='gbtree', callbacks=None,\n",
       "              colsample_bylevel=1, colsample_bynode=1, colsample_bytree=1,\n",
       "              early_stopping_rounds=None, enable_categorical=False,\n",
       "              eval_metric=None, gamma=0, gpu_id=-1, grow_policy='depthwise',\n",
       "              importance_type=None, interaction_constraints='',\n",
       "              learning_rate=0.300000012, max_bin=256, max_cat_to_onehot=4,\n",
       "              max_delta_step=0, max_depth=6, max_leaves=0, min_child_weight=1,\n",
       "              missing=nan, monotone_constraints='()', n_estimators=100,\n",
       "              n_jobs=0, num_parallel_tree=1, predictor='auto', random_state=0,\n",
       "              reg_alpha=0, reg_lambda=1, ...)"
      ]
     },
     "execution_count": 30,
     "metadata": {},
     "output_type": "execute_result"
    }
   ],
   "source": [
    "from xgboost import XGBClassifier\n",
    "xgb = XGBClassifier()\n",
    "xgb.fit(X_train, y_train)"
   ]
  },
  {
   "cell_type": "code",
   "execution_count": 31,
   "id": "b724d9cd",
   "metadata": {},
   "outputs": [],
   "source": [
    "y_xgb_pred  = xgb.predict(X_test)"
   ]
  },
  {
   "cell_type": "code",
   "execution_count": 33,
   "id": "46229ed7",
   "metadata": {},
   "outputs": [
    {
     "data": {
      "text/plain": [
       "array([[130,   2],\n",
       "       [  4, 152]], dtype=int64)"
      ]
     },
     "execution_count": 33,
     "metadata": {},
     "output_type": "execute_result"
    }
   ],
   "source": [
    "from sklearn.metrics import confusion_matrix\n",
    "cm = confusion_matrix(y_test, y_xgb_pred)\n",
    "cm"
   ]
  },
  {
   "cell_type": "code",
   "execution_count": 34,
   "id": "4f5d4887",
   "metadata": {},
   "outputs": [
    {
     "name": "stdout",
     "output_type": "stream",
     "text": [
      "xgboost Training score: 1.0 Test Score: 0.9791666666666666\n"
     ]
    }
   ],
   "source": [
    "print (\"xgboost Training score:\",xgb.score(X_train,y_train),\"Test Score:\", xgb.score(X_test,y_test))"
   ]
  }
 ],
 "metadata": {
  "kernelspec": {
   "display_name": "Python 3 (ipykernel)",
   "language": "python",
   "name": "python3"
  },
  "language_info": {
   "codemirror_mode": {
    "name": "ipython",
    "version": 3
   },
   "file_extension": ".py",
   "mimetype": "text/x-python",
   "name": "python",
   "nbconvert_exporter": "python",
   "pygments_lexer": "ipython3",
   "version": "3.9.12"
  }
 },
 "nbformat": 4,
 "nbformat_minor": 5
}
